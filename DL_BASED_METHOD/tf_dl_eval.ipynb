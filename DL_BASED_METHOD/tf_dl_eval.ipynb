{
 "cells": [
  {
   "cell_type": "code",
   "execution_count": 1,
   "metadata": {},
   "outputs": [],
   "source": [
    "import numpy as np\n",
    "import pandas as pd\n",
    "from data_extraction import *\n",
    "from resp_signal_extraction import *\n",
    "from rr_extration import *\n",
    "from sklearn.preprocessing import MinMaxScaler\n",
    "import re\n",
    "import tensorflow as tf\n",
    "import pickle as pkl\n",
    "from tf_model import *\n",
    "from tensorflow.keras.callbacks import ModelCheckpoint\n",
    "from tensorflow.keras.optimizers import Adam\n",
    "from tensorflow.keras.losses import Huber"
   ]
  },
  {
   "cell_type": "code",
   "execution_count": null,
   "metadata": {},
   "outputs": [],
   "source": []
  },
  {
   "cell_type": "code",
   "execution_count": 2,
   "metadata": {},
   "outputs": [],
   "source": [
    "with open('output','rb') as f:\n",
    "    output_data = pkl.load(f)\n",
    "\n",
    "with open('input','rb') as f:\n",
    "    input_data = pkl.load(f)\n",
    "\n",
    "input_data = input_data.reshape(input_data.shape[0],input_data.shape[-1],input_data.shape[1])\n",
    "annotation = pd.read_pickle('/media/hticpose/drive1/charan/BR_Uncertainty/DL_BASED_METHOD/annotation.pkl')\n",
    "reference_rr = (annotation['Reference_RR'].values).reshape(-1,1)\n",
    "\n",
    "tensor_input = tf.convert_to_tensor(input_data)\n",
    "tensor_output = tf.convert_to_tensor(output_data)\n",
    "tensor_ref_rr = tf.convert_to_tensor(reference_rr)\n",
    "training_ids = annotation['patient_id'] < 13\n",
    "\n",
    "x_train_data = tensor_input[tf.convert_to_tensor(training_ids.values)]\n",
    "x_test_data = tensor_input[tf.convert_to_tensor(~(training_ids.values))]\n",
    "x_train_ref_rr = tensor_ref_rr[tf.convert_to_tensor(training_ids.values)]\n",
    "x_test_ref_rr = tensor_ref_rr[tf.convert_to_tensor(~(training_ids.values))]\n",
    "\n",
    "y_train_data = tensor_output[tf.convert_to_tensor(training_ids.values)]\n",
    "y_test_data = tensor_output[tf.convert_to_tensor(~(training_ids.values))]\n",
    "\n",
    "train_dataset = tf.data.Dataset.from_tensor_slices((x_train_data , y_train_data))\n",
    "train_dataset = train_dataset.shuffle(len(x_train_data)).batch(128)\n",
    "test_dataset = tf.data.Dataset.from_tensor_slices((x_test_data , y_test_data))\n",
    "test_dataset = test_dataset.batch(128)"
   ]
  },
  {
   "cell_type": "code",
   "execution_count": 9,
   "metadata": {},
   "outputs": [
    {
     "data": {
      "text/plain": [
       "TensorShape([814, 128])"
      ]
     },
     "execution_count": 9,
     "metadata": {},
     "output_type": "execute_result"
    }
   ],
   "source": [
    "y_test_data.shape"
   ]
  },
  {
   "cell_type": "code",
   "execution_count": 12,
   "metadata": {},
   "outputs": [
    {
     "name": "stdout",
     "output_type": "stream",
     "text": [
      "tf.Tensor([128 128   1], shape=(3,), dtype=int32)\n",
      "tf.Tensor([128 128   1], shape=(3,), dtype=int32)\n",
      "tf.Tensor([128 128   1], shape=(3,), dtype=int32)\n",
      "tf.Tensor([128 128   1], shape=(3,), dtype=int32)\n",
      "tf.Tensor([128 128   1], shape=(3,), dtype=int32)\n",
      "tf.Tensor([128 128   1], shape=(3,), dtype=int32)\n",
      "tf.Tensor([ 46 128   1], shape=(3,), dtype=int32)\n"
     ]
    }
   ],
   "source": [
    "model_input_shape = (128,3)\n",
    "model  = BRUnet(model_input_shape)\n",
    "optimizer = Adam(learning_rate = 0.005)\n",
    "loss_fn = Huber()\n",
    "model(tf.ones((128,128,3)))\n",
    "model.load_weights('/media/hticpose/drive1/charan/BR_Uncertainty/DL_BASED_METHOD/best_model.h5')\n",
    "\n",
    "test_loss_list = []\n",
    "final_output = tf.convert_to_tensor([])\n",
    "\n",
    "for step , (x_batch_test,y_batch_test) in enumerate(test_dataset):\n",
    "    output = model(x_batch_test)\n",
    "    test_loss = loss_fn(y_batch_test , output)\n",
    "    print(tf.shape(output))\n",
    "    '''\n",
    "    if step == 0:\n",
    "        final_output = output\n",
    "    else:\n",
    "        tf.concat([final_output , output] , axis = 0)\n",
    "    test_loss_list.append(test_loss)\n",
    "    '''"
   ]
  },
  {
   "cell_type": "code",
   "execution_count": 10,
   "metadata": {},
   "outputs": [
    {
     "data": {
      "text/plain": [
       "[<tf.Tensor: shape=(), dtype=float32, numpy=0.018694442>,\n",
       " <tf.Tensor: shape=(), dtype=float32, numpy=0.015124833>,\n",
       " <tf.Tensor: shape=(), dtype=float32, numpy=0.016113013>,\n",
       " <tf.Tensor: shape=(), dtype=float32, numpy=0.01993818>,\n",
       " <tf.Tensor: shape=(), dtype=float32, numpy=0.017204897>,\n",
       " <tf.Tensor: shape=(), dtype=float32, numpy=0.014655525>,\n",
       " <tf.Tensor: shape=(), dtype=float32, numpy=0.011357721>]"
      ]
     },
     "execution_count": 10,
     "metadata": {},
     "output_type": "execute_result"
    }
   ],
   "source": []
  },
  {
   "cell_type": "code",
   "execution_count": null,
   "metadata": {},
   "outputs": [],
   "source": []
  }
 ],
 "metadata": {
  "kernelspec": {
   "display_name": "Python 3",
   "language": "python",
   "name": "python3"
  },
  "language_info": {
   "codemirror_mode": {
    "name": "ipython",
    "version": 3
   },
   "file_extension": ".py",
   "mimetype": "text/x-python",
   "name": "python",
   "nbconvert_exporter": "python",
   "pygments_lexer": "ipython3",
   "version": "3.6.9"
  }
 },
 "nbformat": 4,
 "nbformat_minor": 2
}
